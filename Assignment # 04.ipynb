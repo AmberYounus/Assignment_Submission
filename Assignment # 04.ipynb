{
 "cells": [
  {
   "cell_type": "code",
   "execution_count": 1,
   "metadata": {
    "cocalc": {
     "outputs": {
      "0": {
       "name": "input",
       "opts": {
        "password": false,
        "prompt": "Enter your first number: "
       },
       "output_type": "stream",
       "value": "4"
      },
      "1": {
       "name": "input",
       "opts": {
        "password": false,
        "prompt": "Enter your second number: "
       },
       "output_type": "stream",
       "value": "4"
      }
     }
    },
    "collapsed": false
   },
   "outputs": [
    {
     "name": "stdout",
     "output_type": "stream",
     "text": "Enter your first number:  4"
    },
    {
     "name": "stdout",
     "output_type": "stream",
     "text": "Enter your second number:  4"
    },
    {
     "name": "stdout",
     "output_type": "stream",
     "text": [
      "4 + 4 = \n",
      "8\n",
      "4 - 4 = \n",
      "0\n",
      "4 * 4 = \n",
      "16\n",
      "4 / 4 = \n",
      "1.0\n",
      "4 ** 4 = \n",
      "256\n"
     ]
    }
   ],
   "source": [
    "#1. Make a calculator using Python with addition, subtraction, multiplication division and power.\n",
    "num1 = int(input('Enter your first number: '))\n",
    "num2 = int(input('Enter your second number: '))\n",
    "\n",
    "print('{} + {} = '.format(num1, num2))\n",
    "print(num1 + num2)\n",
    "\n",
    "print('{} - {} = '.format(num1, num2))\n",
    "print(num1 - num2)\n",
    "\n",
    "print('{} * {} = '.format(num1, num2))\n",
    "print(num1 * num2)\n",
    "\n",
    "print('{} / {} = '.format(num1, num2))\n",
    "print(num1 / num2)\n",
    "\n",
    "print('{} ** {} = '.format(num1, num2))\n",
    "print(num1 ** num2)"
   ]
  },
  {
   "cell_type": "code",
   "execution_count": 2,
   "metadata": {
    "collapsed": false
   },
   "outputs": [
    {
     "name": "stdout",
     "output_type": "stream",
     "text": [
      "2\n"
     ]
    }
   ],
   "source": [
    "#2. Write a program to check if there is any numeric value in ist using for loop\n",
    "list = [\"c\", 2,\"java\" , \"c++\"] \n",
    "for x in list:\n",
    "    if type(x) == int:\n",
    "        print(x)"
   ]
  },
  {
   "cell_type": "code",
   "execution_count": 3,
   "metadata": {
    "collapsed": false
   },
   "outputs": [
    {
     "name": "stdout",
     "output_type": "stream",
     "text": [
      "{1: 10, 11: 20}\n",
      "{1: 10, 11: 20, 21: 30}\n"
     ]
    }
   ],
   "source": [
    "#3. Write a Python script to add a key to a dictionary.\n",
    "dic = {1:10, 11:20}\n",
    "print(dic)\n",
    "dic.update({21:30})\n",
    "print(dic)"
   ]
  },
  {
   "cell_type": "code",
   "execution_count": 6,
   "metadata": {
    "collapsed": false
   },
   "outputs": [
    {
     "name": "stdout",
     "output_type": "stream",
     "text": [
      "Dictionary:  {'x': 55, 'y': 23, 'z': 30, 'p': 98}\n",
      "sum of all values in dictionary:  206\n"
     ]
    }
   ],
   "source": [
    "#4. Write a Python program to sum all the numeric items in a dictionary\n",
    "\n",
    "dic={ 'x':55, 'y':23, 'z':30, 'p':98 }\n",
    "print(\"Dictionary: \", dic)\n",
    "print(\"sum of all values in dictionary: \",sum(dic.values()))"
   ]
  },
  {
   "cell_type": "code",
   "execution_count": 0,
   "metadata": {
    "collapsed": false
   },
   "outputs": [
   ],
   "source": [
   ]
  },
  {
   "cell_type": "code",
   "execution_count": 7,
   "metadata": {
    "collapsed": false
   },
   "outputs": [
    {
     "name": "stdout",
     "output_type": "stream",
     "text": [
      "2 3 4 5 "
     ]
    }
   ],
   "source": [
    "#5. Write a program to identify duplicate values from list\n",
    "\n",
    "l=[1,2,3,4,5,2,3,4,7,9,5]\n",
    "l1=[]\n",
    "for i in l:\n",
    "    if i not in l1:\n",
    "        l1.append(i)\n",
    "    else:\n",
    "        print(i,end=' ')"
   ]
  },
  {
   "cell_type": "code",
   "execution_count": 9,
   "metadata": {
    "collapsed": false
   },
   "outputs": [
    {
     "name": "stdout",
     "output_type": "stream",
     "text": [
      "The given dictionary :  {'Mon': 3, 'Tue': 5, 'Wed': 6, 'Thu': 9}\n",
      "Wed is Present.\n"
     ]
    }
   ],
   "source": [
    "#6. Write a Python script to check if a given kay already exists in a dictionary\n",
    "\n",
    "Adict = {'Mon':3,'Tue':5,'Wed':6,'Thu':9}\n",
    "print(\"The given dictionary : \",Adict)\n",
    "check_key = \"Wed\"\n",
    "if check_key in Adict:\n",
    "   print(check_key,\"is Present.\")\n",
    "else:\n",
    "   print(check_key, \" is not Present.\")\n"
   ]
  },
  {
   "cell_type": "code",
   "execution_count": 0,
   "metadata": {
    "collapsed": false
   },
   "outputs": [
   ],
   "source": [
   ]
  }
 ],
 "metadata": {
  "kernelspec": {
   "display_name": "Python 3 (system-wide)",
   "language": "python",
   "metadata": {
    "cocalc": {
     "description": "Python 3 programming language",
     "priority": 100,
     "url": "https://www.python.org/"
    }
   },
   "name": "python3",
   "resource_dir": "/ext/jupyter/kernels/python3"
  },
  "language_info": {
   "codemirror_mode": {
    "name": "ipython",
    "version": 3
   },
   "file_extension": ".py",
   "mimetype": "text/x-python",
   "name": "python",
   "nbconvert_exporter": "python",
   "pygments_lexer": "ipython3",
   "version": "3.8.10"
  }
 },
 "nbformat": 4,
 "nbformat_minor": 4
}